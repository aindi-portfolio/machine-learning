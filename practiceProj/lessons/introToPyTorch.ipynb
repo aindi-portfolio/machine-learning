{
 "cells": [
  {
   "cell_type": "code",
   "execution_count": 4,
   "metadata": {},
   "outputs": [
    {
     "name": "stdout",
     "output_type": "stream",
     "text": [
      "2.2.2\n"
     ]
    }
   ],
   "source": [
    "import torch\n",
    "print(torch.__version__)"
   ]
  },
  {
   "cell_type": "code",
   "execution_count": 5,
   "metadata": {},
   "outputs": [],
   "source": [
    "import random\n",
    "\n",
    "# Create a 3x3 matrix (list of lists) with random float values\n",
    "matrix = [[random.random() for _ in range(3)] for _ in range(3)]\n",
    "# print(matrix)"
   ]
  },
  {
   "cell_type": "markdown",
   "metadata": {},
   "source": [
    "# Importance of Tensors in Neural Networks\n",
    "In neural networks, tensors represent inputs, outputs, weights, and biases. For instance, an input layer of a neural network can be represented as a tensor where each element corresponds to a feature in the input data. Tensors enable efficient computation of forward and backward passes during training, making them a fundamental building block in deep learning."
   ]
  },
  {
   "cell_type": "code",
   "execution_count": 6,
   "metadata": {},
   "outputs": [],
   "source": [
    "import torch\n",
    "\n",
    "tensor1 = torch.tensor([[1.0, 2.0, 3.0], [4.0, 5.0, 6.0], [7.0, 8.0, 9.0]])\n",
    "tensor2 = torch.tensor([[9.0, 8.0, 7.0], [6.0, 5.0, 4.0], [3.0, 2.0, 1.0]])\n",
    "# print(tensor1)\n",
    "# Element-wise addition\n",
    "result = tensor1 + tensor2\n",
    "# print(result)"
   ]
  },
  {
   "cell_type": "markdown",
   "metadata": {},
   "source": [
    "## TENSOR Manipulation"
   ]
  },
  {
   "cell_type": "code",
   "execution_count": 7,
   "metadata": {},
   "outputs": [],
   "source": [
    "# Reshaping Tensors: Changing the shape of a tensor without changing its data.\n",
    "tensor = torch.tensor([[1, 2, 3], [4, 5, 6], [7, 8, 9]])\n",
    "reshaped_tensor = tensor.view(1, 9)\n",
    "# print(reshaped_tensor)"
   ]
  },
  {
   "cell_type": "code",
   "execution_count": 8,
   "metadata": {},
   "outputs": [],
   "source": [
    "# Reshaping Tensors: Changing the shape of a tensor without changing its data.\n",
    "tensor = torch.tensor([[1, 2, 3], [4, 5, 6], [7, 8, 9]])\n",
    "# print(tensor)\n",
    "# Basic slicing\n",
    "sliced_tensor = tensor[:, 1]  # Select all rows in the second column\n",
    "# print(sliced_tensor)\n",
    "\n",
    "# Boolean indexing\n",
    "boolean_tensor = tensor[tensor > 5]  # Select elements greater than 5\n",
    "# print(boolean_tensor)"
   ]
  },
  {
   "cell_type": "code",
   "execution_count": 9,
   "metadata": {},
   "outputs": [
    {
     "name": "stdout",
     "output_type": "stream",
     "text": [
      "tensor([[1, 2],\n",
      "        [3, 4],\n",
      "        [5, 6],\n",
      "        [7, 8]])\n"
     ]
    }
   ],
   "source": [
    "# Concatenation: Combining multiple tensors along a specific dimension.\n",
    "tensor1 = torch.tensor([[1, 2], [3, 4]])\n",
    "tensor2 = torch.tensor([[5, 6], [7, 8]])\n",
    "concatenated_tensor = torch.cat((tensor1, tensor2), dim=0)  # Concatenate along rows\n",
    "print(concatenated_tensor)"
   ]
  },
  {
   "cell_type": "code",
   "execution_count": 10,
   "metadata": {},
   "outputs": [
    {
     "name": "stdout",
     "output_type": "stream",
     "text": [
      "tensor([[[1, 2],\n",
      "         [5, 6]],\n",
      "\n",
      "        [[3, 4],\n",
      "         [7, 8]]])\n"
     ]
    }
   ],
   "source": [
    "# Stacking: Stacking tensors along a new dimension.\n",
    "stacked_tensor = torch.stack((tensor1, tensor2), dim=1)  # Stack along columns\n",
    "print(stacked_tensor)"
   ]
  },
  {
   "cell_type": "markdown",
   "metadata": {},
   "source": [
    "## Tensor Methods\n",
    "PyTorch provides a wide range of tensor methods that are essential for building and optimizing neural networks. These methods include mathematical operations, aggregation, and transformation functions."
   ]
  },
  {
   "cell_type": "code",
   "execution_count": 11,
   "metadata": {},
   "outputs": [
    {
     "name": "stdout",
     "output_type": "stream",
     "text": [
      "torch.Size([2, 2])\n",
      "torch.Size([2, 2])\n"
     ]
    }
   ],
   "source": [
    "# Shape and Size:\n",
    "tensor = torch.tensor([[1.0, 2.0], [3.0, 4.0]])\n",
    "print(tensor.shape)  # Shape of the tensor\n",
    "print(tensor.size())  # Size of the tensor"
   ]
  },
  {
   "cell_type": "code",
   "execution_count": 12,
   "metadata": {},
   "outputs": [
    {
     "name": "stdout",
     "output_type": "stream",
     "text": [
      "2\n"
     ]
    }
   ],
   "source": [
    "# Number of Dimensions:\n",
    "print(tensor.ndim)  # Number of dimensions"
   ]
  },
  {
   "cell_type": "code",
   "execution_count": 13,
   "metadata": {},
   "outputs": [
    {
     "name": "stdout",
     "output_type": "stream",
     "text": [
      "torch.float32\n"
     ]
    }
   ],
   "source": [
    "# Data Type:\n",
    "print(tensor.dtype)  # Data type of the tensor"
   ]
  },
  {
   "cell_type": "code",
   "execution_count": 14,
   "metadata": {},
   "outputs": [
    {
     "name": "stdout",
     "output_type": "stream",
     "text": [
      "tensor([[[1., 2.],\n",
      "         [3., 4.]]])\n"
     ]
    }
   ],
   "source": [
    "# Unsqueeze:\n",
    "unsqueezed_tensor = tensor.unsqueeze(0)  # Add an extra dimension at position 0\n",
    "print(unsqueezed_tensor)"
   ]
  },
  {
   "cell_type": "code",
   "execution_count": 15,
   "metadata": {},
   "outputs": [
    {
     "name": "stdout",
     "output_type": "stream",
     "text": [
      "tensor([1., 2., 3., 4.])\n"
     ]
    }
   ],
   "source": [
    "# Reveal:\n",
    "raveled_tensor = tensor.ravel()  # Flatten the tensor\n",
    "print(raveled_tensor)"
   ]
  },
  {
   "cell_type": "code",
   "execution_count": 16,
   "metadata": {},
   "outputs": [
    {
     "name": "stdout",
     "output_type": "stream",
     "text": [
      "tensor([[1., 2., 3., 4.]])\n"
     ]
    }
   ],
   "source": [
    "# Reshape:\n",
    "reshaped_tensor = tensor.reshape(1, 4)  # Reshape tensor to 1x4\n",
    "print(reshaped_tensor)"
   ]
  },
  {
   "cell_type": "code",
   "execution_count": 17,
   "metadata": {},
   "outputs": [
    {
     "name": "stdout",
     "output_type": "stream",
     "text": [
      "tensor([[1., 2.]])\n",
      "tensor([[3., 4.]])\n"
     ]
    }
   ],
   "source": [
    "# Split:\n",
    "split_tensors = tensor.split(1, dim=0)  # Split tensor into chunks along dimension 0\n",
    "for t in split_tensors:\n",
    "    print(t)"
   ]
  },
  {
   "cell_type": "code",
   "execution_count": 18,
   "metadata": {},
   "outputs": [
    {
     "name": "stdout",
     "output_type": "stream",
     "text": [
      "tensor(10.) tensor(2.5000)\n"
     ]
    }
   ],
   "source": [
    "# Mathematical Operations:\n",
    "sum_tensor = tensor.sum()  # Sum of all elements\n",
    "mean_tensor = tensor.mean()  # Mean of all elements\n",
    "print(sum_tensor, mean_tensor)"
   ]
  },
  {
   "cell_type": "code",
   "execution_count": 19,
   "metadata": {},
   "outputs": [
    {
     "name": "stdout",
     "output_type": "stream",
     "text": [
      "tensor([3., 4.]) tensor([1, 1])\n"
     ]
    }
   ],
   "source": [
    "# Aggregation Functions:\n",
    "max_val, max_idx = tensor.max(dim=0)  # Max values and their indices along a dimension\n",
    "print(max_val, max_idx)"
   ]
  },
  {
   "cell_type": "code",
   "execution_count": 20,
   "metadata": {},
   "outputs": [
    {
     "name": "stdout",
     "output_type": "stream",
     "text": [
      "tensor([[1., 3.],\n",
      "        [2., 4.]])\n"
     ]
    }
   ],
   "source": [
    "# Transformation Functions:\n",
    "transposed_tensor = tensor.t()  # Transpose of the tensor\n",
    "print(transposed_tensor)"
   ]
  },
  {
   "cell_type": "markdown",
   "metadata": {},
   "source": [
    "## Scenarios for Tensor Methods"
   ]
  },
  {
   "cell_type": "code",
   "execution_count": 21,
   "metadata": {},
   "outputs": [
    {
     "name": "stdout",
     "output_type": "stream",
     "text": [
      "tensor([[-1.1619, -0.3873],\n",
      "        [ 0.3873,  1.1619]])\n"
     ]
    }
   ],
   "source": [
    "# Normalization: Often, input data needs to be normalized before feeding it into a neural network. This can be done using tensor operations.\n",
    "tensor = torch.tensor([[1.0, 2.0], [3.0, 4.0]])\n",
    "normalized_tensor = (tensor - tensor.mean()) / tensor.std()\n",
    "print(normalized_tensor)"
   ]
  },
  {
   "cell_type": "code",
   "execution_count": 22,
   "metadata": {},
   "outputs": [
    {
     "name": "stdout",
     "output_type": "stream",
     "text": [
      "tensor([[2., 3., 4.],\n",
      "        [3., 4., 5.],\n",
      "        [4., 5., 6.]])\n"
     ]
    }
   ],
   "source": [
    "# Broadcasting: This feature allows you to perform operations on tensors of different shapes by automatically expanding their dimensions.\n",
    "tensor1 = torch.tensor([1.0, 2.0, 3.0])\n",
    "tensor2 = torch.tensor([[1.0], [2.0], [3.0]])\n",
    "result = tensor1 + tensor2  # Broadcasting to match dimensions\n",
    "print(result)"
   ]
  }
 ],
 "metadata": {
  "kernelspec": {
   "display_name": "Python 3",
   "language": "python",
   "name": "python3"
  },
  "language_info": {
   "codemirror_mode": {
    "name": "ipython",
    "version": 3
   },
   "file_extension": ".py",
   "mimetype": "text/x-python",
   "name": "python",
   "nbconvert_exporter": "python",
   "pygments_lexer": "ipython3",
   "version": "3.12.11"
  }
 },
 "nbformat": 4,
 "nbformat_minor": 2
}
